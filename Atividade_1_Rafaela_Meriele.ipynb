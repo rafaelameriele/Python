{
  "nbformat": 4,
  "nbformat_minor": 0,
  "metadata": {
    "colab": {
      "name": "Atividade 1 - Rafaela Meriele",
      "provenance": [],
      "collapsed_sections": [],
      "include_colab_link": true
    },
    "kernelspec": {
      "name": "python3",
      "display_name": "Python 3"
    },
    "language_info": {
      "name": "python"
    }
  },
  "cells": [
    {
      "cell_type": "markdown",
      "metadata": {
        "id": "view-in-github",
        "colab_type": "text"
      },
      "source": [
        "<a href=\"https://colab.research.google.com/github/rafaelameriele/Python/blob/https%2Fcolab.research.google.com%2Fdrive%2F1wM4LbbJ-St5R7L8S1c_Y4WFvbeqHu4Mm%23scrollTo%3DwNDwedAgX3AW/Atividade_1_Rafaela_Meriele.ipynb\" target=\"_parent\"><img src=\"https://colab.research.google.com/assets/colab-badge.svg\" alt=\"Open In Colab\"/></a>"
      ]
    },
    {
      "cell_type": "markdown",
      "source": [
        "#Segunda Unidade\n",
        "##1º Lista de exercícios \n",
        "\n",
        "Exercícios com base na aula presencial do dia 09/05 e deverá ser enviado até domingo (15/05). Dessa maneira, vocês podem me enviar o link dessa lista respondida (lembrar de autorizar qualquer pessoa com link de visualizar) ou fazer o download do arquivo (Arquivo > Fazer download > Fazer download do .ibynb) e me enviar por e-mail. \n"
      ],
      "metadata": {
        "id": "nVoKMnfvI72n"
      }
    },
    {
      "cell_type": "markdown",
      "source": [
        "### Aluna: Rafaela Meriele Coelho Silva\n",
        "### Matrícula: 20170007870"
      ],
      "metadata": {
        "id": "La0h9BOfskkB"
      }
    },
    {
      "cell_type": "code",
      "execution_count": null,
      "metadata": {
        "id": "ZDmoaSRsItAx",
        "outputId": "568c5744-c7f5-4fc0-c697-8e399d480cb7",
        "colab": {
          "base_uri": "https://localhost:8080/"
        }
      },
      "outputs": [
        {
          "output_type": "execute_result",
          "data": {
            "text/plain": [
              "[1, 2, 3, 4, 5, 6, 7, 8, 9, 10]"
            ]
          },
          "metadata": {},
          "execution_count": 4
        }
      ],
      "source": [
        "# Exercício 1 - Imprima na tela os números de 1 a 10. Use uma lista para armazenar os números.\n",
        "contagem=[1,2,3,4,5,6,7,8,9,10]\n",
        "contagem"
      ]
    },
    {
      "cell_type": "code",
      "source": [
        "# Exercício 2 - Crie uma lista de 5 objetos e imprima na tela\n",
        "mercado=['Leite','Café','Queijo','Chocolate','Iogurte']\n",
        "mercado"
      ],
      "metadata": {
        "id": "RFab4ia4OU_I",
        "outputId": "86714767-8a12-4d6e-a5b8-2982ec9b87e0",
        "colab": {
          "base_uri": "https://localhost:8080/"
        }
      },
      "execution_count": null,
      "outputs": [
        {
          "output_type": "execute_result",
          "data": {
            "text/plain": [
              "['Leite', 'Café', 'Queijo', 'Chocolate', 'Iogurte']"
            ]
          },
          "metadata": {},
          "execution_count": 5
        }
      ]
    },
    {
      "cell_type": "code",
      "source": [
        "# Exercício 3 - Crie duas strings e concatene as duas em uma terceira string (com um espaço entre elas)\n",
        "x='Olá, ' \n",
        "y='Tudo bem?'\n",
        "x+y"
      ],
      "metadata": {
        "id": "vDvKHdX_OZcI",
        "outputId": "41403ed6-16ca-41aa-bb62-3617cccdb048",
        "colab": {
          "base_uri": "https://localhost:8080/",
          "height": 36
        }
      },
      "execution_count": null,
      "outputs": [
        {
          "output_type": "execute_result",
          "data": {
            "text/plain": [
              "'Olá, Tudo bem?'"
            ],
            "application/vnd.google.colaboratory.intrinsic+json": {
              "type": "string"
            }
          },
          "metadata": {},
          "execution_count": 16
        }
      ]
    },
    {
      "cell_type": "code",
      "source": [
        "# Exercício 4 - Crie uma lista de 4 elementos. O primeiro elemento deve ser uma string, \n",
        "# o segundo um inteiro, o terceiro um float e quarto um booleano.\n",
        "# Imprima a lista na tela.\n",
        "Lista=['Olá',1,1.5,True]\n",
        "Lista"
      ],
      "metadata": {
        "id": "QYTz08AqOfat",
        "outputId": "0e0a84d0-c9a6-4b7b-cc3a-745ec0a51500",
        "colab": {
          "base_uri": "https://localhost:8080/"
        }
      },
      "execution_count": null,
      "outputs": [
        {
          "output_type": "execute_result",
          "data": {
            "text/plain": [
              "['Olá', 1, 1.5, True]"
            ]
          },
          "metadata": {},
          "execution_count": 18
        }
      ]
    },
    {
      "cell_type": "code",
      "source": [
        "# Exercício 5 - Considere a string abaixo. Imprima na tela apenas o nome \"atuaria\".\n",
        "curso = \"ciências atuariais\"\n",
        "print(curso[9:16])\n"
      ],
      "metadata": {
        "id": "mMX_QUOHOzPH",
        "outputId": "6dcaf8ae-a799-4b21-9fab-5115401bf2cc",
        "colab": {
          "base_uri": "https://localhost:8080/"
        }
      },
      "execution_count": null,
      "outputs": [
        {
          "output_type": "stream",
          "name": "stdout",
          "text": [
            "atuaria\n"
          ]
        }
      ]
    },
    {
      "cell_type": "code",
      "source": [
        "# Exercício 6 - Crie uma variável tipo inteira e converta para tipo float.\n",
        "x=100/3\n",
        "x_float=float(x)\n",
        "type(x_float)"
      ],
      "metadata": {
        "id": "SPnxIsk5PCKF",
        "outputId": "faaea6be-ad3e-44d7-fffd-bbedcacd20f1",
        "colab": {
          "base_uri": "https://localhost:8080/"
        }
      },
      "execution_count": null,
      "outputs": [
        {
          "output_type": "execute_result",
          "data": {
            "text/plain": [
              "float"
            ]
          },
          "metadata": {},
          "execution_count": 26
        }
      ]
    },
    {
      "cell_type": "code",
      "source": [
        "# Exercício 7 - Faça uma divisão retorando um número inteiro como resultado\n",
        "y=95//7\n",
        "y"
      ],
      "metadata": {
        "id": "qIuT8G9SXbFg",
        "outputId": "9d88c719-0d45-4497-85a1-ff56af7d6e11",
        "colab": {
          "base_uri": "https://localhost:8080/"
        }
      },
      "execution_count": null,
      "outputs": [
        {
          "output_type": "execute_result",
          "data": {
            "text/plain": [
              "13"
            ]
          },
          "metadata": {},
          "execution_count": 28
        }
      ]
    },
    {
      "cell_type": "code",
      "source": [
        "# Exercício 8 - Imprima a frase \"Palmeiras não tem mundial\" cinco vezes, através de código e sem digitar mais de uma vez a frase. \n",
        "a='Palmeiras não tem mundial \\n'\n",
        "print(a*5)"
      ],
      "metadata": {
        "id": "nPPJFNCePqVV",
        "outputId": "3183a0f3-0b42-44a5-8812-abf628adb313",
        "colab": {
          "base_uri": "https://localhost:8080/"
        }
      },
      "execution_count": null,
      "outputs": [
        {
          "output_type": "stream",
          "name": "stdout",
          "text": [
            "Palmeiras não tem mundial \n",
            "Palmeiras não tem mundial \n",
            "Palmeiras não tem mundial \n",
            "Palmeiras não tem mundial \n",
            "Palmeiras não tem mundial \n",
            "\n"
          ]
        }
      ]
    },
    {
      "cell_type": "code",
      "source": [
        "# Exercício 9 - Crie cada uma das 5 classes de variaveis ensinadas e imprima o tipo da variavel (sem escrever o nome da variável).\n",
        "b = 4.4\n",
        "c = 4\n",
        "d = 'Olá'\n",
        "e = True\n",
        "f = [\"um\",\"dois\",\"três\"]\n",
        "type(b),type(c),type(d),type(e),type(f)\n"
      ],
      "metadata": {
        "id": "apbbPBGvTv5V",
        "outputId": "b1022cd9-1100-4907-fdbe-d8c4ceceabc2",
        "colab": {
          "base_uri": "https://localhost:8080/"
        }
      },
      "execution_count": null,
      "outputs": [
        {
          "output_type": "execute_result",
          "data": {
            "text/plain": [
              "(float, int, str, bool, list)"
            ]
          },
          "metadata": {},
          "execution_count": 58
        }
      ]
    },
    {
      "cell_type": "code",
      "source": [
        "# Exercício 10 - Dada a lista de compras abaixo, substitua maças por bananas \n",
        "listadomercado = [\"ovos\", \"farinha\", \"leite\", \"maças\"]\n",
        "listadomercado[3]=\"bananas\"\n",
        "listadomercado"
      ],
      "metadata": {
        "id": "Wfp2TNc-QMC3",
        "colab": {
          "base_uri": "https://localhost:8080/"
        },
        "outputId": "a2a7858b-4620-48ab-a235-d686f5c9325b"
      },
      "execution_count": null,
      "outputs": [
        {
          "output_type": "execute_result",
          "data": {
            "text/plain": [
              "['ovos', 'farinha', 'leite', 'bananas']"
            ]
          },
          "metadata": {},
          "execution_count": 2
        }
      ]
    },
    {
      "cell_type": "code",
      "source": [
        "# Exercício 11 - Print a lista de compras abaixo, sem o item \"ovos\" \n",
        "listadomercado = [\"ovos\", \"farinha\", \"leite\", \"maças\"]\n",
        "listadomercado.remove('ovos')\n",
        "listadomercado"
      ],
      "metadata": {
        "id": "Kl_dEZhJS1P1",
        "colab": {
          "base_uri": "https://localhost:8080/"
        },
        "outputId": "a3005708-2df0-4bc5-86c5-f8dcdcc59838"
      },
      "execution_count": null,
      "outputs": [
        {
          "output_type": "execute_result",
          "data": {
            "text/plain": [
              "['farinha', 'leite', 'maças']"
            ]
          },
          "metadata": {},
          "execution_count": 4
        }
      ]
    },
    {
      "cell_type": "code",
      "source": [
        "# Exercício 12 - Dada a lista de compras abaixo, adicione cerveja, carne e carvão (#sextou) e imprima a nova lista.\n",
        "listadomercado = [\"ovos\", \"farinha\", \"leite\", \"maças\"]\n",
        "listadomercado.append('cerveja')\n",
        "listadomercado.append('carne')\n",
        "listadomercado.append('carvão')\n",
        "listadomercado"
      ],
      "metadata": {
        "id": "Ysb9Hj1QSN5U",
        "colab": {
          "base_uri": "https://localhost:8080/"
        },
        "outputId": "3e6e06b7-d0ba-472c-a83e-72f5a9a098fb"
      },
      "execution_count": null,
      "outputs": [
        {
          "output_type": "execute_result",
          "data": {
            "text/plain": [
              "['ovos', 'farinha', 'leite', 'maças', 'cerveja', 'carne', 'carvão']"
            ]
          },
          "metadata": {},
          "execution_count": 6
        }
      ]
    },
    {
      "cell_type": "code",
      "source": [
        "# Exercício 13 - Print a lista de compras abaixo, sem o item \"farinha\" \n",
        "listadomercado = [\"ovos\", \"farinha\", \"leite\", \"maças\"]\n",
        "listadomercado.remove('farinha')\n",
        "listadomercado"
      ],
      "metadata": {
        "id": "143bXMzWTeVo",
        "colab": {
          "base_uri": "https://localhost:8080/"
        },
        "outputId": "87c6c8c8-40d4-4690-9d6d-fe5b70a5c7a1"
      },
      "execution_count": null,
      "outputs": [
        {
          "output_type": "execute_result",
          "data": {
            "text/plain": [
              "['ovos', 'leite', 'maças']"
            ]
          },
          "metadata": {},
          "execution_count": 7
        }
      ]
    },
    {
      "cell_type": "code",
      "source": [
        "# Exercício 14 - Arredonde a variável x para 1.\n",
        "x = 9 / 10\n",
        "round(x)"
      ],
      "metadata": {
        "id": "wNDwedAgX3AW",
        "outputId": "9ff22a17-29c7-4d93-bb1b-ccf0a44f3217",
        "colab": {
          "base_uri": "https://localhost:8080/"
        }
      },
      "execution_count": null,
      "outputs": [
        {
          "output_type": "execute_result",
          "data": {
            "text/plain": [
              "1"
            ]
          },
          "metadata": {},
          "execution_count": 8
        }
      ]
    }
  ]
}