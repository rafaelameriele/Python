{
  "nbformat": 4,
  "nbformat_minor": 0,
  "metadata": {
    "colab": {
      "name": "Atividade 2 - Rafaela Meriele",
      "provenance": [],
      "collapsed_sections": [],
      "include_colab_link": true
    },
    "kernelspec": {
      "name": "python3",
      "display_name": "Python 3"
    },
    "language_info": {
      "name": "python"
    }
  },
  "cells": [
    {
      "cell_type": "markdown",
      "metadata": {
        "id": "view-in-github",
        "colab_type": "text"
      },
      "source": [
        "<a href=\"https://colab.research.google.com/github/rafaelameriele/Python/blob/https%2Fcolab.research.google.com%2Fdrive%2F1wM4LbbJ-St5R7L8S1c_Y4WFvbeqHu4Mm%23scrollTo%3DwNDwedAgX3AW/Atividade_2_Rafaela_Meriele.ipynb\" target=\"_parent\"><img src=\"https://colab.research.google.com/assets/colab-badge.svg\" alt=\"Open In Colab\"/></a>"
      ]
    },
    {
      "cell_type": "markdown",
      "source": [
        "#Segunda Unidade\n",
        "##2º Lista de exercícios \n",
        "\n",
        "Exercícios com base nas aulas do dia 16/05 e 20/05 e deverá ser enviado até segunda (23/05) antes da aula. Dessa maneira, vocês podem me enviar o link dessa lista respondida (lembrar de autorizar qualquer pessoa com link de visualizar) ou fazer o download do arquivo (Arquivo > Fazer download > Fazer download do .ibynb) e me enviar por e-mail. "
      ],
      "metadata": {
        "id": "55ErYTfbMWZx"
      }
    },
    {
      "cell_type": "code",
      "execution_count": null,
      "metadata": {
        "id": "RdhaWX7CL9Cs",
        "colab": {
          "base_uri": "https://localhost:8080/"
        },
        "outputId": "2a6c0efa-0132-498c-a60a-19491a4f34ae"
      },
      "outputs": [
        {
          "output_type": "stream",
          "name": "stdout",
          "text": [
            "Qual o dia da semana?\n",
            "10\n",
            "você precisa trabalhar!\n"
          ]
        }
      ],
      "source": [
        "# Exercício 1 - Crie uma estrutura que pergunte ao usuário qual o dia da semana. Se o dia for igual a Domingo ou igual a sábado, imprima na tela \"Hoje é dia de descanso\", caso contrário imprima na tela \"Você precisa trabalhar!\"\n",
        "\n",
        "dia=str(input(\"Qual o dia da semana?\\n\"))\n",
        "\n",
        "if dia == \"Sábado\" or dia == \"Domingo\":\n",
        "  print(\"dia de descanso!\")\n",
        "else:\n",
        "  print(\"você precisa trabalhar!\")\n"
      ]
    },
    {
      "cell_type": "code",
      "source": [
        "# Exercício 2 - Imprima a sequência de números pares até 70 (de maneira automatizada)\n",
        "\n",
        "for i in range(2,71,2):\n",
        "  print(i)\n"
      ],
      "metadata": {
        "id": "6foai8ABMh5J",
        "colab": {
          "base_uri": "https://localhost:8080/"
        },
        "outputId": "af539287-2179-4bd9-d427-6672f868e8ea"
      },
      "execution_count": null,
      "outputs": [
        {
          "output_type": "stream",
          "name": "stdout",
          "text": [
            "2\n",
            "4\n",
            "6\n",
            "8\n",
            "10\n",
            "12\n",
            "14\n",
            "16\n",
            "18\n",
            "20\n",
            "22\n",
            "24\n",
            "26\n",
            "28\n",
            "30\n",
            "32\n",
            "34\n",
            "36\n",
            "38\n",
            "40\n",
            "42\n",
            "44\n",
            "46\n",
            "48\n",
            "50\n",
            "52\n",
            "54\n",
            "56\n",
            "58\n",
            "60\n",
            "62\n",
            "64\n",
            "66\n",
            "68\n",
            "70\n"
          ]
        }
      ]
    },
    {
      "cell_type": "code",
      "source": [
        "# Exercício 3 - Leia um numero fornecido pelo usuario. Se esse numero for positivo, calcule a raiz quadrada do numero. Se o numero for negativo, mostre uma mensagem dizendo que o numero é invalido\n",
        "\n",
        "x = float(input(\"Digite um número: \"))\n",
        "\n",
        "if x > 0:\n",
        "  print(\"A raiz quadrada deste número é: \", x**(1/2))\n",
        "else:\n",
        "  print(\"Número inválido\")\n"
      ],
      "metadata": {
        "id": "YAu7pVMgQjhP",
        "colab": {
          "base_uri": "https://localhost:8080/"
        },
        "outputId": "55dd88f7-ad0b-428c-8d64-bf9972d69888"
      },
      "execution_count": null,
      "outputs": [
        {
          "output_type": "stream",
          "name": "stdout",
          "text": [
            "Digite um número: -8\n",
            "Número inválido\n"
          ]
        }
      ]
    },
    {
      "cell_type": "code",
      "source": [
        "# Exercício 4 - Faça um programa que conte quantas vezes a letra \"e\" aparece na frase abaixo. \n",
        "# \"Receba! e o melhor do mundo! Graças a deus pai!\"\n",
        "\n",
        "print('Receba! e o melhor do mundo! Graças a deus pai!'.count('e'))"
      ],
      "metadata": {
        "id": "9zrwvBO4QuKn",
        "colab": {
          "base_uri": "https://localhost:8080/"
        },
        "outputId": "e97f0946-c6bf-41fd-98dd-c6d1aaf58367"
      },
      "execution_count": null,
      "outputs": [
        {
          "output_type": "stream",
          "name": "stdout",
          "text": [
            "5\n"
          ]
        }
      ]
    },
    {
      "cell_type": "code",
      "source": [
        "# Exercício 5 - Faça um programa que receba um numero inteiro e verifique se este numero é par ou ımpar (imprima a resposta)\n",
        "\n",
        "y=int(input(\"Digite um número: \"))\n",
        "\n",
        "if y % 2 == 0:\n",
        "  print(\"O número é par\")\n",
        "else:\n",
        "  print(\"O número é ímpar\")"
      ],
      "metadata": {
        "id": "dOcAfeCXRCyN",
        "colab": {
          "base_uri": "https://localhost:8080/"
        },
        "outputId": "aeb09882-9b84-4a76-8d58-2370559ac606"
      },
      "execution_count": null,
      "outputs": [
        {
          "output_type": "stream",
          "name": "stdout",
          "text": [
            "Digite um número: 3\n",
            "O número é ímpar\n"
          ]
        }
      ]
    },
    {
      "cell_type": "code",
      "source": [
        "# Exercício 6 - Faça um programa que receba do usuario as seguintes informações: o salario e o valor da prestacao de um emprestimo. Se a prestação for maior que 20% do salário imprima: Empréstimo não concedido, caso contrario imprima: Empréstimo concedido\n",
        "\n",
        "sal=float(input(\"Digite seu salário: \"))\n",
        "prest=float(input(\"Digite o valor da prestação do empréstimo: \"))\n",
        "\n",
        "if prest > sal*0.2:\n",
        "  print(\"Empréstimo não concedido\")\n",
        "else:\n",
        "  print(\"Empréstimo concedido\")\n"
      ],
      "metadata": {
        "id": "BgiHb42sRUCx",
        "colab": {
          "base_uri": "https://localhost:8080/"
        },
        "outputId": "acd6b345-8bcf-4b53-d03a-cbdbc7c7c6dd"
      },
      "execution_count": null,
      "outputs": [
        {
          "output_type": "stream",
          "name": "stdout",
          "text": [
            "Digite seu salário: 100\n",
            "Digite o valor da prestação do empréstimo: 15\n",
            "Empréstimo concedido\n"
          ]
        }
      ]
    },
    {
      "cell_type": "code",
      "source": [
        "# Exercício 7 - Escreva um programa que não saia do loop enquanto o usuário não digitar corretamente a senha, além disso quando o usuário errar imprima a seguinte mensagem: \"dica de senha: campeão brasileiro em 1987\"\n",
        "\n",
        "senha='sport'\n",
        "\n",
        "senha_digitada = str(input(\"Digite sua senha (apenas com letras)\"))\n",
        "\n",
        "while senha != senha_digitada:\n",
        "  print(\"Senha inválida, tente novamente. Dica de senha: campeão brasileiro em 1987.\")\n",
        "  senha_digitada = str(input(\"Digite sua senha (apenas com letras) \")) \n",
        "\n",
        "print(\"Senha correta!\")\n"
      ],
      "metadata": {
        "id": "IU9QamZpSVSn",
        "colab": {
          "base_uri": "https://localhost:8080/"
        },
        "outputId": "189e9465-1ee2-463a-d426-ceff2ed4055a"
      },
      "execution_count": null,
      "outputs": [
        {
          "output_type": "stream",
          "name": "stdout",
          "text": [
            "Digite sua senha (apenas com letras)oi\n",
            "Senha inválida, tente novamente. Dica de senha: campeão brasileiro em 1987.\n",
            "Digite sua senha (apenas com letras) abcd\n",
            "Senha inválida, tente novamente. Dica de senha: campeão brasileiro em 1987.\n",
            "Digite sua senha (apenas com letras) sport\n",
            "Senha correta!\n"
          ]
        }
      ]
    },
    {
      "cell_type": "code",
      "source": [
        "#Exercício 8 - Faça uma calculadora das quatro principais operações, na qual você pedirá ao usuário dois números e qual operação matemática será feita, com base nessas informações você deve imprimir a resposta.\n",
        "\n",
        "num1=float(input(\"Digite um número: \"))\n",
        "num2=float(input(\"Digite outro número: \"))\n",
        "\n",
        "oper=str(input(\"Qual operação deseja realizar: soma, subtração, multiplicação ou divisão? \"))\n",
        "\n",
        "if oper == 'soma':\n",
        "  print(\"A soma dos números é: \", num1+num2)\n",
        "elif oper == 'subtração':\n",
        "  print(\"A subtração dos números é: \", num1-num2)\n",
        "elif oper == 'multiplicação':\n",
        "  print(\"A multiplicação dos números é: \", num1*num2)\n",
        "elif oper == \"divisão\":\n",
        "  print(\"A divisão dos números é: \", num1/num2)\n",
        "\n"
      ],
      "metadata": {
        "id": "HsfvqQQgMwIk",
        "colab": {
          "base_uri": "https://localhost:8080/"
        },
        "outputId": "224a3ccc-81ec-4f3b-85c5-a7cfcc52d181"
      },
      "execution_count": null,
      "outputs": [
        {
          "output_type": "stream",
          "name": "stdout",
          "text": [
            "Digite um número: 15\n",
            "Digite outro número: 6\n",
            "Qual operação deseja realizar: soma, subtração, multiplicação ou divisão? divisão\n",
            "A divisão dos números é:  2.5\n"
          ]
        }
      ]
    }
  ]
}